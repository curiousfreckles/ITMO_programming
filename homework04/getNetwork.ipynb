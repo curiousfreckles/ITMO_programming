{
 "cells": [
  {
   "cell_type": "code",
   "execution_count": 1,
   "metadata": {},
   "outputs": [],
   "source": [
    "# -*- coding: utf-8 -*-\n",
    "import requests\n",
    "import time\n",
    "import igraph\n",
    "import datetime\n",
    "from igraph import Graph, plot\n",
    "from config import config\n",
    "from api import get_friends"
   ]
  },
  {
   "cell_type": "code",
   "execution_count": 2,
   "metadata": {},
   "outputs": [],
   "source": [
    "def get_network(users_ids, as_edgelist=True):\n",
    "    edges = []\n",
    "    matrix = [[0 for j in range(len(users_ids))]\n",
    "              for i in range(len(users_ids))]\n",
    "\n",
    "    for i, user_id in enumerate(users_ids):\n",
    "        date1 = datetime.datetime.now()\n",
    "        response = get_friends(user_id)\n",
    "        if response.get('error'):\n",
    "            continue\n",
    "        friends_list = response['response']['items']\n",
    "        for j in range(i + 1, len(users_ids)):\n",
    "            if users_ids[j] in friends_list:\n",
    "                if as_edgelist:\n",
    "                    edges.append((i, j))\n",
    "                else:\n",
    "                    matrix[i][j] = matrix[j][i] = 1\n",
    "        date2 = datetime.datetime.now()\n",
    "        time.sleep(max(0, 0.33334 - (date2 - date1).total_seconds()))\n",
    "    if as_edgelist:\n",
    "        return edges\n",
    "    else:\n",
    "        return matrix"
   ]
  },
  {
   "cell_type": "code",
   "execution_count": 3,
   "metadata": {},
   "outputs": [],
   "source": [
    "def get_network(user_id):\n",
    "    response = get_friends(user_id)\n",
    "    friends_list = response.get('response').get('items')\n",
    "    vertices = [i for i in range(len(friends_list))]\n",
    "    edges = get_network(friends_list)\n",
    "    surnames = get_friends(user_id, 'last_name')['response']['items']\n",
    "    vertices = [i['last_name'] for i in surnames]\n",
    "\n",
    "    g = igraph.Graph(vertex_attrs={\"shape\": \"circle\",\n",
    "                                       \"label\": vertices,\n",
    "                                       \"size\": 2},\n",
    "                         edges=edges, directed=False)\n",
    "\n",
    "    n = len(vertices)\n",
    "    visual_style = {\n",
    "            \"vertex_label_dist\": 5,\n",
    "            \"vertex_size\": 2,\n",
    "            \"edge_color\": \"gray\",\n",
    "            \"layout\": g.layout_fruchterman_reingold(\n",
    "                maxiter=100000,\n",
    "                area=n ** 2,\n",
    "                repulserad=n ** 2)\n",
    "        }\n",
    "    g.simplify(multiple=True, loops=True)\n",
    "    clusters = g.community_multilevel()\n",
    "    pal = igraph.drawing.colors.ClusterColoringPalette(len(clusters))\n",
    "    g.vs['color'] = pal.get_many(clusters.membership)\n",
    "    igraph.plot(g, \"friendNetwork.pdf\", **visual_style)"
   ]
  },
  {
   "cell_type": "code",
   "execution_count": 5,
   "metadata": {},
   "outputs": [
    {
     "ename": "AssertionError",
     "evalue": "user_id must be positive integer",
     "output_type": "error",
     "traceback": [
      "\u001b[0;31m---------------------------------------------------------------------------\u001b[0m",
      "\u001b[0;31mAssertionError\u001b[0m                            Traceback (most recent call last)",
      "\u001b[0;32m<ipython-input-5-f64bb8aec08c>\u001b[0m in \u001b[0;36m<module>\u001b[0;34m()\u001b[0m\n\u001b[0;32m----> 1\u001b[0;31m \u001b[0mget_network\u001b[0m\u001b[0;34m(\u001b[0m\u001b[0mconfig\u001b[0m\u001b[0;34m.\u001b[0m\u001b[0mget\u001b[0m\u001b[0;34m(\u001b[0m\u001b[0;36m59914914\u001b[0m\u001b[0;34m)\u001b[0m\u001b[0;34m)\u001b[0m\u001b[0;34m\u001b[0m\u001b[0m\n\u001b[0m",
      "\u001b[0;32m<ipython-input-3-69d902f017d2>\u001b[0m in \u001b[0;36mget_network\u001b[0;34m(user_id)\u001b[0m\n\u001b[1;32m      1\u001b[0m \u001b[0;32mdef\u001b[0m \u001b[0mget_network\u001b[0m\u001b[0;34m(\u001b[0m\u001b[0muser_id\u001b[0m\u001b[0;34m)\u001b[0m\u001b[0;34m:\u001b[0m\u001b[0;34m\u001b[0m\u001b[0m\n\u001b[0;32m----> 2\u001b[0;31m     \u001b[0mresponse\u001b[0m \u001b[0;34m=\u001b[0m \u001b[0mget_friends\u001b[0m\u001b[0;34m(\u001b[0m\u001b[0muser_id\u001b[0m\u001b[0;34m)\u001b[0m\u001b[0;34m\u001b[0m\u001b[0m\n\u001b[0m\u001b[1;32m      3\u001b[0m     \u001b[0mfriends_list\u001b[0m \u001b[0;34m=\u001b[0m \u001b[0mresponse\u001b[0m\u001b[0;34m.\u001b[0m\u001b[0mget\u001b[0m\u001b[0;34m(\u001b[0m\u001b[0;34m'response'\u001b[0m\u001b[0;34m)\u001b[0m\u001b[0;34m.\u001b[0m\u001b[0mget\u001b[0m\u001b[0;34m(\u001b[0m\u001b[0;34m'items'\u001b[0m\u001b[0;34m)\u001b[0m\u001b[0;34m\u001b[0m\u001b[0m\n\u001b[1;32m      4\u001b[0m     \u001b[0mvertices\u001b[0m \u001b[0;34m=\u001b[0m \u001b[0;34m[\u001b[0m\u001b[0mi\u001b[0m \u001b[0;32mfor\u001b[0m \u001b[0mi\u001b[0m \u001b[0;32min\u001b[0m \u001b[0mrange\u001b[0m\u001b[0;34m(\u001b[0m\u001b[0mlen\u001b[0m\u001b[0;34m(\u001b[0m\u001b[0mfriends_list\u001b[0m\u001b[0;34m)\u001b[0m\u001b[0;34m)\u001b[0m\u001b[0;34m]\u001b[0m\u001b[0;34m\u001b[0m\u001b[0m\n\u001b[1;32m      5\u001b[0m     \u001b[0medges\u001b[0m \u001b[0;34m=\u001b[0m \u001b[0mget_network\u001b[0m\u001b[0;34m(\u001b[0m\u001b[0mfriends_list\u001b[0m\u001b[0;34m)\u001b[0m\u001b[0;34m\u001b[0m\u001b[0m\n",
      "\u001b[0;32m~/itmo/cs102/homework04/api.py\u001b[0m in \u001b[0;36mget_friends\u001b[0;34m(user_id, fields)\u001b[0m\n\u001b[1;32m     33\u001b[0m     \"\"\" Returns a list of user IDs or detailed\\\n\u001b[1;32m     34\u001b[0m     information about a user's friends \"\"\"\n\u001b[0;32m---> 35\u001b[0;31m     \u001b[0;32massert\u001b[0m \u001b[0misinstance\u001b[0m\u001b[0;34m(\u001b[0m\u001b[0muser_id\u001b[0m\u001b[0;34m,\u001b[0m \u001b[0mint\u001b[0m\u001b[0;34m)\u001b[0m\u001b[0;34m,\u001b[0m \u001b[0;34m\"user_id must be positive integer\"\u001b[0m\u001b[0;34m\u001b[0m\u001b[0m\n\u001b[0m\u001b[1;32m     36\u001b[0m     \u001b[0;32massert\u001b[0m \u001b[0misinstance\u001b[0m\u001b[0;34m(\u001b[0m\u001b[0mfields\u001b[0m\u001b[0;34m,\u001b[0m \u001b[0mstr\u001b[0m\u001b[0;34m)\u001b[0m\u001b[0;34m,\u001b[0m \u001b[0;34m\"fields must be string\"\u001b[0m\u001b[0;34m\u001b[0m\u001b[0m\n\u001b[1;32m     37\u001b[0m     \u001b[0;32massert\u001b[0m \u001b[0muser_id\u001b[0m \u001b[0;34m>\u001b[0m \u001b[0;36m0\u001b[0m\u001b[0;34m,\u001b[0m \u001b[0;34m\"user_id must be positive integer\"\u001b[0m\u001b[0;34m\u001b[0m\u001b[0m\n",
      "\u001b[0;31mAssertionError\u001b[0m: user_id must be positive integer"
     ]
    }
   ],
   "source": [
    "get_network(config.get(59914914))"
   ]
  },
  {
   "cell_type": "code",
   "execution_count": 7,
   "metadata": {},
   "outputs": [
    {
     "name": "stdout",
     "output_type": "stream",
     "text": [
      "[26768, 37983, 948354, 1440201, 1659977, 1681579, 2270102, 2385194, 3145011, 3718729, 3868191, 4195684, 4269563, 4709334, 4712350, 4725357, 4907292, 5385365, 5407954, 6208713, 6548582, 6736989, 7345754, 7660117, 8552658, 8703410, 8745814, 8798466, 10092532, 10704389, 10832585, 10869042, 11406129, 11701917, 14252099, 14389110, 14868765, 15606950, 15852968, 16322673, 16387161, 16589080, 16915176, 17578828, 17655243, 17942546, 18431165, 19007252, 19462186, 20020833, 20772084, 21269352, 21502453, 23787948, 24435362, 25886002, 26267413, 27247373, 27490250, 27562908, 27596705, 28656010, 29011288, 29480923, 29877058, 30361989, 31023996, 31178625, 31914017, 32224206, 33550100, 35185249, 35242575, 35457660, 35685019, 36440222, 36749528, 39374684, 39879383, 40648824, 41141949, 41632852, 42224108, 42231972, 43265166, 44984789, 45315725, 46071555, 46775678, 46863238, 48343140, 48568432, 49579524, 50639286, 53714998, 54806640, 55211212, 55212535, 56200185, 56340024, 56568321, 57203384, 57675524, 57902269, 58521624, 58644160, 59025752, 59145192, 61439087, 61467019, 62760529, 62977158, 63164835, 63864726, 64148104, 64597728, 65678732, 67668509, 67850966, 70027863, 72117929, 72862340, 74161791, 74826193, 74898822, 76434018, 76774449, 77225539, 77788430, 80528775, 80566576, 80768810, 82265588, 82770248, 82971423, 83287971, 83430070, 83500207, 83798048, 85707571, 87843077, 88415014, 90735275, 92497964, 93019859, 93114244, 94359640, 94794695, 95021808, 95308191, 95657033, 95734275, 96952120, 98433554, 99593265, 103318451, 104106520, 111139627, 113358630, 113673028, 114161860, 116848514, 117159929, 117934967, 118368195, 120831486, 121750813, 121785784, 121928723, 122326016, 123290210, 124220251, 124283654, 124758432, 125016998, 125563538, 126405040, 127667179, 132357858, 133410938, 133541249, 134001093, 135084059, 136377746, 136516469, 137736111, 138199628, 138681222, 139207538, 140461525, 141861007, 142260212, 144772087, 144815673, 145795336, 145803060, 146286946, 146495935, 150514171, 150673899, 151602984, 151796275, 152602111, 154449556, 156136463, 157650866, 160676682, 160728839, 161359926, 161567864, 162045852, 162065058, 163716003, 168600499, 169491294, 170258409, 172030641, 172246174, 174245988, 176774052, 177641185, 178320125, 179559442, 179783192, 179846681, 181679438, 182433694, 187717474, 189949079, 191317878, 192730004, 194524209, 196357651, 196603774, 199126848, 199806634, 202116390, 202579920, 203570988, 203977390, 206298194, 207602082, 208389069, 208585151, 209077977, 210910616, 213694014, 216604430, 218772230, 218902184, 220850043, 221450385, 222840135, 223272487, 224102023, 224368043, 227193867, 230982169, 233089878, 234289046, 239520016, 239762832, 239797036, 244211064, 245091632, 249735203, 249764444, 255507448, 256872514, 267778500, 268006176, 271410837, 272076217, 282861589, 290845665, 304581878, 304745115, 309632501, 313014402, 314168419, 314718360, 316652567, 319118723, 324898889, 325098275, 330603408, 331400067, 339413433, 347616996, 349527470, 354147001, 360784808, 387071426, 388292253, 391670364, 428902108, 430345842, 431940041, 434463725, 442412431, 445912741, 446516809, 449492934, 449677588, 456258687, 462579673, 473010195, 504911063, 505540783]\n"
     ]
    }
   ],
   "source": [
    "response = get_friends(59914914)\n",
    "friends_list = response.get('response').get('items')\n",
    "print(friends_list)"
   ]
  },
  {
   "cell_type": "code",
   "execution_count": null,
   "metadata": {},
   "outputs": [],
   "source": []
  }
 ],
 "metadata": {
  "kernelspec": {
   "display_name": "Python 3",
   "language": "python",
   "name": "python3"
  },
  "language_info": {
   "codemirror_mode": {
    "name": "ipython",
    "version": 3
   },
   "file_extension": ".py",
   "mimetype": "text/x-python",
   "name": "python",
   "nbconvert_exporter": "python",
   "pygments_lexer": "ipython3",
   "version": "3.6.5"
  }
 },
 "nbformat": 4,
 "nbformat_minor": 2
}
