{
 "cells": [
  {
   "cell_type": "code",
   "execution_count": null,
   "metadata": {},
   "outputs": [],
   "source": [
    "# -*- coding: utf-8 -*-\n",
    "import requests\n",
    "import time\n",
    "import igraph\n",
    "import datetime\n",
    "from igraph import Graph, plot\n",
    "from config import config\n",
    "from api import get_friends"
   ]
  },
  {
   "cell_type": "code",
   "execution_count": null,
   "metadata": {},
   "outputs": [],
   "source": [
    "def get_network(users_ids, as_edgelist=True):\n",
    "    edges = []\n",
    "    matrix = [[0 for j in range(len(users_ids))]\n",
    "              for i in range(len(users_ids))]\n",
    "\n",
    "    for i, user_id in enumerate(users_ids):\n",
    "        date1 = datetime.datetime.now()\n",
    "        response = get_friends(user_id)\n",
    "        if response.get('error'):\n",
    "            continue\n",
    "        friends_list = response['response']['items']\n",
    "        for j in range(i + 1, len(users_ids)):\n",
    "            if users_ids[j] in friends_list:\n",
    "                if as_edgelist:\n",
    "                    edges.append((i, j))\n",
    "                else:\n",
    "                    matrix[i][j] = matrix[j][i] = 1\n",
    "        date2 = datetime.datetime.now()\n",
    "        time.sleep(max(0, 0.33334 - (date2 - date1).total_seconds()))\n",
    "    if as_edgelist:\n",
    "        return edges\n",
    "    else:\n",
    "        return matrix"
   ]
  },
  {
   "cell_type": "code",
   "execution_count": null,
   "metadata": {},
   "outputs": [],
   "source": [
    "def get_network(user_id):\n",
    "    response = get_friends(user_id)\n",
    "    friends_list = response.get('response').get('items')\n",
    "    vertices = [i for i in range(len(friends_list))]\n",
    "    edges = get_network(friends_list)\n",
    "    surnames = get_friends(user_id, 'last_name')['response']['items']\n",
    "    vertices = [i['last_name'] for i in surnames]\n",
    "\n",
    "    g = igraph.Graph(vertex_attrs={\"shape\": \"circle\",\n",
    "                                       \"label\": vertices,\n",
    "                                       \"size\": 2},\n",
    "                         edges=edges, directed=False)\n",
    "\n",
    "    n = len(vertices)\n",
    "    visual_style = {\n",
    "            \"vertex_label_dist\": 5,\n",
    "            \"vertex_size\": 2,\n",
    "            \"edge_color\": \"gray\",\n",
    "            \"layout\": g.layout_fruchterman_reingold(\n",
    "                maxiter=100000,\n",
    "                area=n ** 2,\n",
    "                repulserad=n ** 2)\n",
    "        }\n",
    "    g.simplify(multiple=True, loops=True)\n",
    "    clusters = g.community_multilevel()\n",
    "    pal = igraph.drawing.colors.ClusterColoringPalette(len(clusters))\n",
    "    g.vs['color'] = pal.get_many(clusters.membership)\n",
    "    igraph.plot(g, \"friendNetwork.pdf\", **visual_style)"
   ]
  },
  {
   "cell_type": "code",
   "execution_count": null,
   "metadata": {},
   "outputs": [],
   "source": [
    "get_network(config.get('VK_ID'))"
   ]
  }
 ],
 "metadata": {
  "kernelspec": {
   "display_name": "Python 3",
   "language": "python",
   "name": "python3"
  },
  "language_info": {
   "codemirror_mode": {
    "name": "ipython",
    "version": 3
   },
   "file_extension": ".py",
   "mimetype": "text/x-python",
   "name": "python",
   "nbconvert_exporter": "python",
   "pygments_lexer": "ipython3",
   "version": "3.6.5"
  }
 },
 "nbformat": 4,
 "nbformat_minor": 2
}
